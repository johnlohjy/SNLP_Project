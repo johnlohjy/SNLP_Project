{
 "cells": [
  {
   "cell_type": "markdown",
   "id": "d50ae906-0bf4-44d8-b434-57725d3ac929",
   "metadata": {
    "id": "d50ae906-0bf4-44d8-b434-57725d3ac929"
   },
   "source": [
    "### Imports"
   ]
  },
  {
   "cell_type": "code",
   "execution_count": 1,
   "id": "0bwPjAYJC4S3",
   "metadata": {
    "colab": {
     "base_uri": "https://localhost:8080/"
    },
    "id": "0bwPjAYJC4S3",
    "outputId": "601ad530-becc-459f-9eb9-6ce69e211d65"
   },
   "outputs": [
    {
     "name": "stdout",
     "output_type": "stream",
     "text": [
      "Requirement already satisfied: Keras-Preprocessing in c:\\users\\johnl\\miniconda3\\envs\\myenv\\lib\\site-packages (1.1.2)\n",
      "Requirement already satisfied: numpy>=1.9.1 in c:\\users\\johnl\\miniconda3\\envs\\myenv\\lib\\site-packages (from Keras-Preprocessing) (1.26.3)\n",
      "Requirement already satisfied: six>=1.9.0 in c:\\users\\johnl\\miniconda3\\envs\\myenv\\lib\\site-packages (from Keras-Preprocessing) (1.16.0)\n"
     ]
    }
   ],
   "source": [
    "!pip install Keras-Preprocessing"
   ]
  },
  {
   "cell_type": "code",
   "execution_count": 2,
   "id": "97dccc61-85c8-4487-b7e9-019c0ee5c821",
   "metadata": {
    "id": "97dccc61-85c8-4487-b7e9-019c0ee5c821"
   },
   "outputs": [],
   "source": [
    "import torch\n",
    "from torch import nn, optim\n",
    "from torch.utils.data import TensorDataset,RandomSampler,SequentialSampler,Dataset,DataLoader,IterableDataset\n",
    "import torch.nn.functional as F\n",
    "\n",
    "import transformers\n",
    "from transformers import XLNetTokenizer, XLNetModel, AdamW, XLNetForSequenceClassification\n",
    "\n",
    "from sklearn.model_selection import train_test_split\n",
    "\n",
    "from keras_preprocessing.sequence import pad_sequences\n",
    "\n",
    "import numpy as np\n",
    "import pandas as pd\n",
    "import os"
   ]
  },
  {
   "cell_type": "markdown",
   "id": "O8A7wm5KEz5d",
   "metadata": {
    "id": "O8A7wm5KEz5d"
   },
   "source": [
    "### Use Google Colab GPU if available"
   ]
  },
  {
   "cell_type": "code",
   "execution_count": 3,
   "id": "VDlg7P1XFNgE",
   "metadata": {
    "colab": {
     "base_uri": "https://localhost:8080/"
    },
    "id": "VDlg7P1XFNgE",
    "outputId": "e22f7cf0-85c4-4b29-f3e8-6f02bd160842"
   },
   "outputs": [
    {
     "name": "stdout",
     "output_type": "stream",
     "text": [
      "GPU is Not Available. Use CPU\n"
     ]
    }
   ],
   "source": [
    "# Return a bool indicating if CUDA is currently available.\n",
    "if torch.cuda.is_available():\n",
    "  # Use CUDA-enabled GPU\n",
    "  device = torch.device(\"cuda:0\")\n",
    "  print(\"GPU is Available\")\n",
    "  torch.cuda.empty_cache()\n",
    "  print(torch.cuda.get_device_name(0))\n",
    "else:\n",
    "  device = torch.device(\"cpu\")\n",
    "  print(\"GPU is Not Available. Use CPU\")"
   ]
  },
  {
   "cell_type": "markdown",
   "id": "ab4314e7-dc83-4fa3-81e4-1ab5f52ad5c5",
   "metadata": {
    "id": "ab4314e7-dc83-4fa3-81e4-1ab5f52ad5c5"
   },
   "source": [
    "### Load Data"
   ]
  },
  {
   "cell_type": "code",
   "execution_count": 4,
   "id": "486b20ca-83b6-46cf-907c-e22a00e0756c",
   "metadata": {
    "id": "486b20ca-83b6-46cf-907c-e22a00e0756c"
   },
   "outputs": [],
   "source": [
    "# Read Training Dataset\n",
    "# https://towardsdatascience.com/3-ways-to-load-csv-files-into-colab-7c14fcbdcb92\n",
    "# filepath_train = 'https://raw.githubusercontent.com/johnlohjy/SNLP_Project/XLNet_John/data/train_2024.csv'\n",
    "# from google.colab import files\n",
    "# uploaded = files.upload()\n",
    "filepath_train = 'test_2024.csv'\n",
    "df = pd.read_csv(filepath_train, quoting=3)"
   ]
  },
  {
   "cell_type": "markdown",
   "id": "add2aa70-508a-4c21-a3cd-00b4d7f57025",
   "metadata": {
    "id": "add2aa70-508a-4c21-a3cd-00b4d7f57025"
   },
   "source": [
    "### Pre-Process Data"
   ]
  },
  {
   "cell_type": "code",
   "execution_count": 5,
   "id": "e3a7d4d7-0ec2-43fb-8654-b40b48402a6c",
   "metadata": {
    "id": "e3a7d4d7-0ec2-43fb-8654-b40b48402a6c"
   },
   "outputs": [],
   "source": [
    "# Step 1: Get sentences\n",
    "sentences = list(df.loc[:, 'text'])"
   ]
  },
  {
   "cell_type": "code",
   "execution_count": 6,
   "id": "d9e3f65d-a2a7-4169-bd6f-4ea4136e48f9",
   "metadata": {
    "id": "d9e3f65d-a2a7-4169-bd6f-4ea4136e48f9"
   },
   "outputs": [],
   "source": [
    "\"\"\"\n",
    "Step 2: Add Sepcial tokens [SEP] (end of sentence token) and [CLS] (classification token) to the end of sequences first\n",
    "https://datascience.stackexchange.com/questions/66207/what-is-purpose-of-the-cls-token-and-why-is-its-encoding-output-important\n",
    "https://towardsdatascience.com/fastai-with-transformers-bert-roberta-xlnet-xlm-distilbert-4f41ee18ecb2\n",
    "https://huggingface.co/docs/transformers/model_doc/xlnet#xlnettokenizer\n",
    "\"\"\"\n",
    "sentences = [sentence + \" [SEP] [CLS]\" for sentence in sentences]"
   ]
  },
  {
   "cell_type": "code",
   "execution_count": 7,
   "id": "174c84d1-f9bd-4ded-9285-2e69eb91ef50",
   "metadata": {
    "colab": {
     "base_uri": "https://localhost:8080/"
    },
    "id": "174c84d1-f9bd-4ded-9285-2e69eb91ef50",
    "outputId": "06cfd187-1da1-418f-bcb8-e7fd088c2001"
   },
   "outputs": [],
   "source": [
    "\"\"\"\n",
    "Step 3: Initialise tokenizer\n",
    "Initialise word tokenizer to be used\n",
    "SentencePiece Tokenizer is used by XLNetTokenizer. It can handle all words, special characters and spaces easily\n",
    "https://huggingface.co/docs/transformers/en/tokenizer_summary#sentencepiece\n",
    "https://aman.ai/primers/ai/tokenizer/#sentencepiece\n",
    "\"\"\"\n",
    "tokenizer = XLNetTokenizer.from_pretrained('xlnet-base-cased')\n",
    "\n",
    "# Step 4: Tokenize Text\n",
    "tokenized_text = [tokenizer.tokenize(sent) for sent in sentences]"
   ]
  },
  {
   "cell_type": "code",
   "execution_count": 8,
   "id": "b132b3a4-2441-4ce6-b625-45806771dbca",
   "metadata": {
    "colab": {
     "base_uri": "https://localhost:8080/"
    },
    "id": "b132b3a4-2441-4ce6-b625-45806771dbca",
    "outputId": "605e3b4d-d40c-464a-b4fd-6500ed7d5a5d"
   },
   "outputs": [
    {
     "name": "stdout",
     "output_type": "stream",
     "text": [
      "The Max Length of a Sentence is: \n",
      "352\n"
     ]
    }
   ],
   "source": [
    "# Get max length of the sequence just to see\n",
    "MAX_LEN = 935\n",
    "MAX_LEN_TEST = max(len(sent) for sent in tokenized_text)\n",
    "\n",
    "print(\"The Max Length of a Sentence is: \")\n",
    "print(MAX_LEN_TEST)"
   ]
  },
  {
   "cell_type": "code",
   "execution_count": 9,
   "id": "2f36ed61-da38-4070-beba-8344ca914ccd",
   "metadata": {
    "id": "2f36ed61-da38-4070-beba-8344ca914ccd"
   },
   "outputs": [],
   "source": [
    "\"\"\"\n",
    "Step 5: Prepare inputs for XLNet\n",
    "1) Input IDs\n",
    "   - Seq of integers identifying each input token (from our tokenized text) to its index number in the XLNet tokenizer vocabulary\n",
    "\n",
    "2) Attention Mask\n",
    "   - Helps the model to focus on actual words vs padding\n",
    "\n",
    "3) Labels\n",
    "\"\"\"\n",
    "\n",
    "# Use the XLNet tokenizer to convert the tokens to their index numbers in the XLNet vocabulary\n",
    "input_ids = [tokenizer.convert_tokens_to_ids(token) for token in tokenized_text]\n",
    "\n",
    "# Pad the sequence using keras. Truncate: if len of sequence is less than our MAX_LEN, we cut it from the back\n",
    "input_ids = pad_sequences(input_ids, maxlen=MAX_LEN, dtype=\"long\", truncating=\"post\", padding=\"post\")\n",
    "\n",
    "# Create the attention masks\n",
    "attention_masks = []\n",
    "for sequence in input_ids:\n",
    "    sequence_masked = [float(i>0) for i in sequence]\n",
    "    attention_masks.append(sequence_masked)"
   ]
  },
  {
   "cell_type": "markdown",
   "id": "ddeeb02e-05db-4816-8d2e-2c10df35bf31",
   "metadata": {
    "id": "ddeeb02e-05db-4816-8d2e-2c10df35bf31"
   },
   "source": [
    "### Initialise the PyTorch DataLoader"
   ]
  },
  {
   "cell_type": "code",
   "execution_count": 21,
   "id": "VPN9L2pE2s83",
   "metadata": {
    "id": "VPN9L2pE2s83"
   },
   "outputs": [],
   "source": [
    "# Define an IterableDataset to tackle memory issue. Stream data.\n",
    "class CustomIterableDataset(IterableDataset):\n",
    "    def __init__(self, input_ids, attention_masks):\n",
    "        self.input_ids = input_ids\n",
    "        self.attention_masks = attention_masks\n",
    "\n",
    "    def __iter__(self):\n",
    "        for input_ids, attention_masks in zip(self.input_ids, self.attention_masks):\n",
    "            yield (input_ids, attention_masks)\n",
    "\n",
    "    def __len__(self):\n",
    "        return len(self.input_ids)\n"
   ]
  },
  {
   "cell_type": "code",
   "execution_count": 22,
   "id": "d82e41c2-8604-4729-b3ed-ccd6a7cc2488",
   "metadata": {
    "id": "d82e41c2-8604-4729-b3ed-ccd6a7cc2488"
   },
   "outputs": [],
   "source": [
    "# Convert all of our data into torch tensors, the required datatype for our model\n",
    "\n",
    "inputs = torch.tensor(input_ids)\n",
    "\n",
    "masks = torch.tensor(attention_masks)"
   ]
  },
  {
   "cell_type": "code",
   "execution_count": 23,
   "id": "b0f17002-1e7e-49f6-8c35-a8ce027ea08f",
   "metadata": {
    "id": "b0f17002-1e7e-49f6-8c35-a8ce027ea08f"
   },
   "outputs": [],
   "source": [
    "# Select a batch size for training. For fine-tuning with XLNet, the authors recommend a batch size of\n",
    "# 32, 48, or 128. We will use 32 here to avoid memory issues.\n",
    "batch_size = 32\n",
    "\n",
    "dataset = CustomIterableDataset(inputs,masks)\n",
    "dataloader = DataLoader(dataset, batch_size=batch_size)"
   ]
  },
  {
   "cell_type": "markdown",
   "id": "68988495-b07a-4d4d-854a-988305adb7fa",
   "metadata": {
    "id": "68988495-b07a-4d4d-854a-988305adb7fa"
   },
   "source": [
    "### Initialise and Load the Model"
   ]
  },
  {
   "cell_type": "code",
   "execution_count": 13,
   "id": "1b551cd8-3fc8-407a-a162-be157858dd92",
   "metadata": {
    "colab": {
     "base_uri": "https://localhost:8080/"
    },
    "id": "1b551cd8-3fc8-407a-a162-be157858dd92",
    "outputId": "5101b97d-6189-4723-ea13-9d17f2ad4fdb"
   },
   "outputs": [
    {
     "name": "stderr",
     "output_type": "stream",
     "text": [
      "Some weights of XLNetForSequenceClassification were not initialized from the model checkpoint at xlnet-base-cased and are newly initialized: ['logits_proj.bias', 'logits_proj.weight', 'sequence_summary.summary.bias', 'sequence_summary.summary.weight']\n",
      "You should probably TRAIN this model on a down-stream task to be able to use it for predictions and inference.\n"
     ]
    }
   ],
   "source": [
    "\"\"\"\n",
    "Load the model: XLNEtForSequenceClassification, the pretrained XLNet model with an added single linear classification layer on top.\n",
    "\n",
    "As we feed input data, the entire pre-trained XLNet model and the additional untrained classification layer is trained on our specific task.\n",
    "\"\"\"\n",
    "model = XLNetForSequenceClassification.from_pretrained(\"xlnet-base-cased\", num_labels=2)"
   ]
  },
  {
   "cell_type": "code",
   "execution_count": 19,
   "id": "b44ba522-07bf-478a-9534-5fa019c2c410",
   "metadata": {
    "colab": {
     "base_uri": "https://localhost:8080/"
    },
    "id": "b44ba522-07bf-478a-9534-5fa019c2c410",
    "outputId": "06e2e89b-2d47-4ddc-f907-f1474a51c488"
   },
   "outputs": [
    {
     "data": {
      "text/plain": [
       "<All keys matched successfully>"
      ]
     },
     "execution_count": 19,
     "metadata": {},
     "output_type": "execute_result"
    }
   ],
   "source": [
    "# Load the model\n",
    "model.load_state_dict(torch.load(\"xlnetmodel.pt\",map_location=torch.device('cpu')))"
   ]
  },
  {
   "cell_type": "markdown",
   "id": "7b51174b-f26a-4465-b2d8-c8a84728a8a7",
   "metadata": {
    "id": "7b51174b-f26a-4465-b2d8-c8a84728a8a7"
   },
   "source": [
    "### Use the Model for Prediction"
   ]
  },
  {
   "cell_type": "code",
   "execution_count": 24,
   "id": "8d69dbaa-dcc9-4f6d-afbd-17dbc2817978",
   "metadata": {
    "colab": {
     "base_uri": "https://localhost:8080/"
    },
    "id": "8d69dbaa-dcc9-4f6d-afbd-17dbc2817978",
    "outputId": "872db635-c33c-4f19-b7a4-af0162716331"
   },
   "outputs": [],
   "source": [
    "# Set the model to evaluation mode\n",
    "model.eval()\n",
    "\n",
    "predictions = []\n",
    "\n",
    "with torch.no_grad():\n",
    "    for batch in dataloader:\n",
    "      # Pass data to the specified device as well\n",
    "      batch = tuple(data.to(device) for data in batch)\n",
    "      input_ids, attention_masks = batch\n",
    "\n",
    "      # See https://huggingface.co/docs/transformers/en/model_doc/xlnet#transformers.models.xlnet.modeling_xlnet.XLNetForSequenceClassificationOutput\n",
    "      outputs = model(input_ids, token_type_ids=None, attention_mask=attention_masks)\n",
    "      # Prediction\n",
    "      logits = outputs.logits  # Assuming model outputs logits\n",
    "\n",
    "      # Move logits and labels to CPU\n",
    "      logits = logits.detach().cpu().numpy()\n",
    "\n",
    "      # Store predictions and true labels\n",
    "      predictions.extend(np.argmax(logits, axis=1).flatten())"
   ]
  },
  {
   "cell_type": "code",
   "execution_count": 28,
   "id": "158fd02c-c40e-467c-97c2-395fe2960163",
   "metadata": {},
   "outputs": [
    {
     "data": {
      "text/html": [
       "<div>\n",
       "<style scoped>\n",
       "    .dataframe tbody tr th:only-of-type {\n",
       "        vertical-align: middle;\n",
       "    }\n",
       "\n",
       "    .dataframe tbody tr th {\n",
       "        vertical-align: top;\n",
       "    }\n",
       "\n",
       "    .dataframe thead th {\n",
       "        text-align: right;\n",
       "    }\n",
       "</style>\n",
       "<table border=\"1\" class=\"dataframe\">\n",
       "  <thead>\n",
       "    <tr style=\"text-align: right;\">\n",
       "      <th></th>\n",
       "      <th>id</th>\n",
       "      <th>text</th>\n",
       "      <th>label</th>\n",
       "    </tr>\n",
       "  </thead>\n",
       "  <tbody>\n",
       "    <tr>\n",
       "      <th>0</th>\n",
       "      <td>0</td>\n",
       "      <td>I get the odd feeling Klastri  the head of the...</td>\n",
       "      <td>?</td>\n",
       "    </tr>\n",
       "    <tr>\n",
       "      <th>1</th>\n",
       "      <td>1</td>\n",
       "      <td>I couldn't disagree more with this column; Can...</td>\n",
       "      <td>?</td>\n",
       "    </tr>\n",
       "    <tr>\n",
       "      <th>2</th>\n",
       "      <td>2</td>\n",
       "      <td>Does the property owner have a vote in the  ta...</td>\n",
       "      <td>?</td>\n",
       "    </tr>\n",
       "    <tr>\n",
       "      <th>3</th>\n",
       "      <td>3</td>\n",
       "      <td>Shawn  do you think it may be due to the fact ...</td>\n",
       "      <td>?</td>\n",
       "    </tr>\n",
       "    <tr>\n",
       "      <th>4</th>\n",
       "      <td>4</td>\n",
       "      <td>You proved she turned over 100% of the relevan...</td>\n",
       "      <td>?</td>\n",
       "    </tr>\n",
       "  </tbody>\n",
       "</table>\n",
       "</div>"
      ],
      "text/plain": [
       "   id                                               text label\n",
       "0   0  I get the odd feeling Klastri  the head of the...     ?\n",
       "1   1  I couldn't disagree more with this column; Can...     ?\n",
       "2   2  Does the property owner have a vote in the  ta...     ?\n",
       "3   3  Shawn  do you think it may be due to the fact ...     ?\n",
       "4   4  You proved she turned over 100% of the relevan...     ?"
      ]
     },
     "execution_count": 28,
     "metadata": {},
     "output_type": "execute_result"
    }
   ],
   "source": [
    "df.head()"
   ]
  },
  {
   "cell_type": "code",
   "execution_count": 29,
   "id": "c358f495-0e52-4950-a8e0-92dced5be5a8",
   "metadata": {},
   "outputs": [],
   "source": [
    "df_prediction = pd.DataFrame({'id': list(df.loc[:, 'id']), 'label': predictions})"
   ]
  },
  {
   "cell_type": "code",
   "execution_count": 30,
   "id": "0caa8c8d-3601-44a1-8237-321583e61047",
   "metadata": {},
   "outputs": [
    {
     "data": {
      "text/html": [
       "<div>\n",
       "<style scoped>\n",
       "    .dataframe tbody tr th:only-of-type {\n",
       "        vertical-align: middle;\n",
       "    }\n",
       "\n",
       "    .dataframe tbody tr th {\n",
       "        vertical-align: top;\n",
       "    }\n",
       "\n",
       "    .dataframe thead th {\n",
       "        text-align: right;\n",
       "    }\n",
       "</style>\n",
       "<table border=\"1\" class=\"dataframe\">\n",
       "  <thead>\n",
       "    <tr style=\"text-align: right;\">\n",
       "      <th></th>\n",
       "      <th>id</th>\n",
       "      <th>label</th>\n",
       "    </tr>\n",
       "  </thead>\n",
       "  <tbody>\n",
       "    <tr>\n",
       "      <th>0</th>\n",
       "      <td>0</td>\n",
       "      <td>1</td>\n",
       "    </tr>\n",
       "    <tr>\n",
       "      <th>1</th>\n",
       "      <td>1</td>\n",
       "      <td>0</td>\n",
       "    </tr>\n",
       "    <tr>\n",
       "      <th>2</th>\n",
       "      <td>2</td>\n",
       "      <td>0</td>\n",
       "    </tr>\n",
       "    <tr>\n",
       "      <th>3</th>\n",
       "      <td>3</td>\n",
       "      <td>1</td>\n",
       "    </tr>\n",
       "    <tr>\n",
       "      <th>4</th>\n",
       "      <td>4</td>\n",
       "      <td>1</td>\n",
       "    </tr>\n",
       "  </tbody>\n",
       "</table>\n",
       "</div>"
      ],
      "text/plain": [
       "   id  label\n",
       "0   0      1\n",
       "1   1      0\n",
       "2   2      0\n",
       "3   3      1\n",
       "4   4      1"
      ]
     },
     "execution_count": 30,
     "metadata": {},
     "output_type": "execute_result"
    }
   ],
   "source": [
    "df_prediction.head()"
   ]
  },
  {
   "cell_type": "code",
   "execution_count": 32,
   "id": "77022f65-d9ce-49c7-8168-6de077e96c24",
   "metadata": {},
   "outputs": [],
   "source": [
    "df_prediction.to_csv('Group29_submission.csv', index=False)"
   ]
  },
  {
   "cell_type": "code",
   "execution_count": null,
   "id": "1282109e-786a-49f5-9929-057c8c632fee",
   "metadata": {},
   "outputs": [],
   "source": []
  }
 ],
 "metadata": {
  "colab": {
   "gpuType": "T4",
   "machine_shape": "hm",
   "provenance": []
  },
  "kernelspec": {
   "display_name": "Python 3 (ipykernel)",
   "language": "python",
   "name": "python3"
  },
  "language_info": {
   "codemirror_mode": {
    "name": "ipython",
    "version": 3
   },
   "file_extension": ".py",
   "mimetype": "text/x-python",
   "name": "python",
   "nbconvert_exporter": "python",
   "pygments_lexer": "ipython3",
   "version": "3.10.13"
  }
 },
 "nbformat": 4,
 "nbformat_minor": 5
}
